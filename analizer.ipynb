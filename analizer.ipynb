{
 "cells": [
  {
   "cell_type": "markdown",
   "metadata": {},
   "source": [
    "# Ceneo Analyzer"
   ]
  },
  {
   "cell_type": "markdown",
   "metadata": {},
   "source": [
    "## Załadowanie bibliotek"
   ]
  },
  {
   "cell_type": "code",
   "execution_count": 56,
   "metadata": {},
   "outputs": [],
   "source": [
    "import os\n",
    "import pandas as pd\n",
    "from matplotlib import pyplot as plt\n",
    "import numpy as np"
   ]
  },
  {
   "cell_type": "markdown",
   "metadata": {},
   "source": [
    "## Lista kodów produktów, o których zostały pobrane opinie"
   ]
  },
  {
   "cell_type": "code",
   "execution_count": 57,
   "metadata": {},
   "outputs": [
    {
     "name": "stdout",
     "output_type": "stream",
     "text": [
      "39562616\n"
     ]
    }
   ],
   "source": [
    "print(*[filename.split(\".\")[0] for filename in os.listdir(\"opinions\")], sep=\"\\n\")"
   ]
  },
  {
   "cell_type": "markdown",
   "metadata": {},
   "source": [
    "## Wczytanie od użytkownika kodu produktu dla którego ma zostać przeprowadzona analiza"
   ]
  },
  {
   "cell_type": "code",
   "execution_count": 58,
   "metadata": {},
   "outputs": [],
   "source": [
    "product_id = input(\"Podaj kod produktu: \")\n",
    "url = f\"https;//www.ceneo.pl/{product_id}#tab=reviews\""
   ]
  },
  {
   "cell_type": "markdown",
   "metadata": {},
   "source": [
    "## Wczytanie do obiektu pandas.Dataframe opinii o produkcie o podanym kodzie"
   ]
  },
  {
   "cell_type": "code",
   "execution_count": 59,
   "metadata": {},
   "outputs": [],
   "source": [
    "opinions = pd.read_json(f\"opinions/{product_id}.json\")"
   ]
  },
  {
   "cell_type": "code",
   "execution_count": 60,
   "metadata": {},
   "outputs": [
    {
     "data": {
      "text/html": [
       "<div>\n",
       "<style scoped>\n",
       "    .dataframe tbody tr th:only-of-type {\n",
       "        vertical-align: middle;\n",
       "    }\n",
       "\n",
       "    .dataframe tbody tr th {\n",
       "        vertical-align: top;\n",
       "    }\n",
       "\n",
       "    .dataframe thead th {\n",
       "        text-align: right;\n",
       "    }\n",
       "</style>\n",
       "<table border=\"1\" class=\"dataframe\">\n",
       "  <thead>\n",
       "    <tr style=\"text-align: right;\">\n",
       "      <th></th>\n",
       "      <th>opinion_id</th>\n",
       "      <th>author</th>\n",
       "      <th>recommendation</th>\n",
       "      <th>stars</th>\n",
       "      <th>content</th>\n",
       "      <th>pros</th>\n",
       "      <th>cons</th>\n",
       "      <th>helpful</th>\n",
       "      <th>unhelpful</th>\n",
       "      <th>publish_date</th>\n",
       "      <th>purchase_date</th>\n",
       "    </tr>\n",
       "  </thead>\n",
       "  <tbody>\n",
       "    <tr>\n",
       "      <th>0</th>\n",
       "      <td>3422858</td>\n",
       "      <td>Użytkownik Ceneo</td>\n",
       "      <td>Polecam</td>\n",
       "      <td>5/5</td>\n",
       "      <td>UWAGA, UWAGA do wszystkich zgłaszających probl...</td>\n",
       "      <td>[]</td>\n",
       "      <td>[]</td>\n",
       "      <td>57</td>\n",
       "      <td>7</td>\n",
       "      <td>2015-11-17 17:55:59</td>\n",
       "      <td>None</td>\n",
       "    </tr>\n",
       "    <tr>\n",
       "      <th>1</th>\n",
       "      <td>3529254</td>\n",
       "      <td>Marcin</td>\n",
       "      <td>Polecam</td>\n",
       "      <td>4,5/5</td>\n",
       "      <td>Ogólnie spoko, chociaż telefon po wyjęciu z pu...</td>\n",
       "      <td>[]</td>\n",
       "      <td>[przycisk home - trzeba mocno naciskać]</td>\n",
       "      <td>3</td>\n",
       "      <td>0</td>\n",
       "      <td>2016-01-13 00:44:40</td>\n",
       "      <td>2015-12-27 14:12:05</td>\n",
       "    </tr>\n",
       "    <tr>\n",
       "      <th>2</th>\n",
       "      <td>6706897</td>\n",
       "      <td>zedi</td>\n",
       "      <td>Polecam</td>\n",
       "      <td>4/5</td>\n",
       "      <td>Wady Słaby dźwięk z głośnika głównego - z tyłu...</td>\n",
       "      <td>[ekran nie do zbicia, wyświetlacza:  design:  ...</td>\n",
       "      <td>[bateria lądująca w godzine 100%, czas pracy n...</td>\n",
       "      <td>0</td>\n",
       "      <td>2</td>\n",
       "      <td>2018-03-14 00:45:39</td>\n",
       "      <td>None</td>\n",
       "    </tr>\n",
       "    <tr>\n",
       "      <th>3</th>\n",
       "      <td>3580458</td>\n",
       "      <td>Janek</td>\n",
       "      <td>Polecam</td>\n",
       "      <td>5/5</td>\n",
       "      <td>Smartphone szybki i stabilny. Super ekran doty...</td>\n",
       "      <td>[wyświetlacza:  design:  żywotność]</td>\n",
       "      <td>[]</td>\n",
       "      <td>37</td>\n",
       "      <td>16</td>\n",
       "      <td>2016-02-12 11:13:47</td>\n",
       "      <td>2016-01-25 12:30:40</td>\n",
       "    </tr>\n",
       "    <tr>\n",
       "      <th>4</th>\n",
       "      <td>3287614</td>\n",
       "      <td>maciej</td>\n",
       "      <td>Polecam</td>\n",
       "      <td>4/5</td>\n",
       "      <td>Generalnie bardzo dobry smartfon, moim zdaniem...</td>\n",
       "      <td>[funkcjonalność]</td>\n",
       "      <td>[]</td>\n",
       "      <td>35</td>\n",
       "      <td>14</td>\n",
       "      <td>2015-08-21 14:25:23</td>\n",
       "      <td>None</td>\n",
       "    </tr>\n",
       "    <tr>\n",
       "      <th>...</th>\n",
       "      <td>...</td>\n",
       "      <td>...</td>\n",
       "      <td>...</td>\n",
       "      <td>...</td>\n",
       "      <td>...</td>\n",
       "      <td>...</td>\n",
       "      <td>...</td>\n",
       "      <td>...</td>\n",
       "      <td>...</td>\n",
       "      <td>...</td>\n",
       "      <td>...</td>\n",
       "    </tr>\n",
       "    <tr>\n",
       "      <th>127</th>\n",
       "      <td>3502307</td>\n",
       "      <td>Użytkownik Ceneo</td>\n",
       "      <td>Polecam</td>\n",
       "      <td>5/5</td>\n",
       "      <td>5,0/5</td>\n",
       "      <td>[]</td>\n",
       "      <td>[]</td>\n",
       "      <td>0</td>\n",
       "      <td>0</td>\n",
       "      <td>2015-12-29 18:45:09</td>\n",
       "      <td>None</td>\n",
       "    </tr>\n",
       "    <tr>\n",
       "      <th>128</th>\n",
       "      <td>3455136</td>\n",
       "      <td>Użytkownik Ceneo</td>\n",
       "      <td>Polecam</td>\n",
       "      <td>5/5</td>\n",
       "      <td>5,0/5</td>\n",
       "      <td>[]</td>\n",
       "      <td>[]</td>\n",
       "      <td>0</td>\n",
       "      <td>0</td>\n",
       "      <td>2015-12-04 22:52:58</td>\n",
       "      <td>None</td>\n",
       "    </tr>\n",
       "    <tr>\n",
       "      <th>129</th>\n",
       "      <td>3442558</td>\n",
       "      <td>Użytkownik Ceneo</td>\n",
       "      <td>Polecam</td>\n",
       "      <td>5/5</td>\n",
       "      <td>5,0/5</td>\n",
       "      <td>[]</td>\n",
       "      <td>[]</td>\n",
       "      <td>0</td>\n",
       "      <td>0</td>\n",
       "      <td>2015-11-27 13:16:18</td>\n",
       "      <td>None</td>\n",
       "    </tr>\n",
       "    <tr>\n",
       "      <th>130</th>\n",
       "      <td>3430751</td>\n",
       "      <td>Użytkownik Ceneo</td>\n",
       "      <td>Polecam</td>\n",
       "      <td>5/5</td>\n",
       "      <td>5,0/5</td>\n",
       "      <td>[]</td>\n",
       "      <td>[]</td>\n",
       "      <td>0</td>\n",
       "      <td>0</td>\n",
       "      <td>2015-11-21 13:41:11</td>\n",
       "      <td>None</td>\n",
       "    </tr>\n",
       "    <tr>\n",
       "      <th>131</th>\n",
       "      <td>3430195</td>\n",
       "      <td>Użytkownik Ceneo</td>\n",
       "      <td>Polecam</td>\n",
       "      <td>5/5</td>\n",
       "      <td>5,0/5</td>\n",
       "      <td>[]</td>\n",
       "      <td>[]</td>\n",
       "      <td>0</td>\n",
       "      <td>0</td>\n",
       "      <td>2015-11-21 01:09:18</td>\n",
       "      <td>None</td>\n",
       "    </tr>\n",
       "  </tbody>\n",
       "</table>\n",
       "<p>132 rows × 11 columns</p>\n",
       "</div>"
      ],
      "text/plain": [
       "     opinion_id            author recommendation  stars  \\\n",
       "0       3422858  Użytkownik Ceneo        Polecam    5/5   \n",
       "1       3529254            Marcin        Polecam  4,5/5   \n",
       "2       6706897              zedi        Polecam    4/5   \n",
       "3       3580458             Janek        Polecam    5/5   \n",
       "4       3287614            maciej        Polecam    4/5   \n",
       "..          ...               ...            ...    ...   \n",
       "127     3502307  Użytkownik Ceneo        Polecam    5/5   \n",
       "128     3455136  Użytkownik Ceneo        Polecam    5/5   \n",
       "129     3442558  Użytkownik Ceneo        Polecam    5/5   \n",
       "130     3430751  Użytkownik Ceneo        Polecam    5/5   \n",
       "131     3430195  Użytkownik Ceneo        Polecam    5/5   \n",
       "\n",
       "                                               content  \\\n",
       "0    UWAGA, UWAGA do wszystkich zgłaszających probl...   \n",
       "1    Ogólnie spoko, chociaż telefon po wyjęciu z pu...   \n",
       "2    Wady Słaby dźwięk z głośnika głównego - z tyłu...   \n",
       "3    Smartphone szybki i stabilny. Super ekran doty...   \n",
       "4    Generalnie bardzo dobry smartfon, moim zdaniem...   \n",
       "..                                                 ...   \n",
       "127                                              5,0/5   \n",
       "128                                              5,0/5   \n",
       "129                                              5,0/5   \n",
       "130                                              5,0/5   \n",
       "131                                              5,0/5   \n",
       "\n",
       "                                                  pros  \\\n",
       "0                                                   []   \n",
       "1                                                   []   \n",
       "2    [ekran nie do zbicia, wyświetlacza:  design:  ...   \n",
       "3                  [wyświetlacza:  design:  żywotność]   \n",
       "4                                     [funkcjonalność]   \n",
       "..                                                 ...   \n",
       "127                                                 []   \n",
       "128                                                 []   \n",
       "129                                                 []   \n",
       "130                                                 []   \n",
       "131                                                 []   \n",
       "\n",
       "                                                  cons  helpful  unhelpful  \\\n",
       "0                                                   []       57          7   \n",
       "1              [przycisk home - trzeba mocno naciskać]        3          0   \n",
       "2    [bateria lądująca w godzine 100%, czas pracy n...        0          2   \n",
       "3                                                   []       37         16   \n",
       "4                                                   []       35         14   \n",
       "..                                                 ...      ...        ...   \n",
       "127                                                 []        0          0   \n",
       "128                                                 []        0          0   \n",
       "129                                                 []        0          0   \n",
       "130                                                 []        0          0   \n",
       "131                                                 []        0          0   \n",
       "\n",
       "            publish_date        purchase_date  \n",
       "0    2015-11-17 17:55:59                 None  \n",
       "1    2016-01-13 00:44:40  2015-12-27 14:12:05  \n",
       "2    2018-03-14 00:45:39                 None  \n",
       "3    2016-02-12 11:13:47  2016-01-25 12:30:40  \n",
       "4    2015-08-21 14:25:23                 None  \n",
       "..                   ...                  ...  \n",
       "127  2015-12-29 18:45:09                 None  \n",
       "128  2015-12-04 22:52:58                 None  \n",
       "129  2015-11-27 13:16:18                 None  \n",
       "130  2015-11-21 13:41:11                 None  \n",
       "131  2015-11-21 01:09:18                 None  \n",
       "\n",
       "[132 rows x 11 columns]"
      ]
     },
     "execution_count": 60,
     "metadata": {},
     "output_type": "execute_result"
    }
   ],
   "source": [
    "opinions "
   ]
  },
  {
   "cell_type": "markdown",
   "metadata": {},
   "source": [
    "## Podstawowe stastystyki "
   ]
  },
  {
   "cell_type": "code",
   "execution_count": 61,
   "metadata": {},
   "outputs": [],
   "source": [
    "opinions.stars = opinions.stars.apply(lambda s: s.split(\"/\")[0].replace(\",\",\".\")).astype(float)"
   ]
  },
  {
   "cell_type": "code",
   "execution_count": 62,
   "metadata": {},
   "outputs": [],
   "source": [
    "opinions_count = opinions.shape[0]\n",
    "pros_count = opinions.pros.apply(lambda p: None if not p else p).count()\n",
    "cons_count = opinions.cons.apply(lambda c: None if not c else c).count()\n",
    "average_stars = opinions.stars.mean()"
   ]
  },
  {
   "cell_type": "code",
   "execution_count": 63,
   "metadata": {},
   "outputs": [
    {
     "data": {
      "text/plain": [
       "132"
      ]
     },
     "execution_count": 63,
     "metadata": {},
     "output_type": "execute_result"
    }
   ],
   "source": [
    "opinions_count"
   ]
  },
  {
   "cell_type": "markdown",
   "metadata": {},
   "source": [
    "## Histogram częstości poszczególnych ocen produktu"
   ]
  },
  {
   "cell_type": "code",
   "execution_count": 64,
   "metadata": {},
   "outputs": [
    {
     "data": {
      "text/plain": [
       "stars\n",
       "0.0     0\n",
       "0.5     3\n",
       "1.0     1\n",
       "1.5     2\n",
       "2.0     1\n",
       "2.5     0\n",
       "3.0     5\n",
       "3.5     3\n",
       "4.0    19\n",
       "4.5    19\n",
       "5.0    79\n",
       "Name: count, dtype: int64"
      ]
     },
     "execution_count": 64,
     "metadata": {},
     "output_type": "execute_result"
    }
   ],
   "source": [
    "stars_distribution = opinions.stars.value_counts().reindex(list(np.arange(0,5.5,0.5)), fill_value=0)\n",
    "stars_distribution"
   ]
  },
  {
   "cell_type": "code",
   "execution_count": 65,
   "metadata": {},
   "outputs": [
    {
     "data": {
      "text/plain": [
       "(array([ 0,  1,  2,  3,  4,  5,  6,  7,  8,  9, 10]),\n",
       " [Text(0, 0, '0.0'),\n",
       "  Text(1, 0, '0.5'),\n",
       "  Text(2, 0, '1.0'),\n",
       "  Text(3, 0, '1.5'),\n",
       "  Text(4, 0, '2.0'),\n",
       "  Text(5, 0, '2.5'),\n",
       "  Text(6, 0, '3.0'),\n",
       "  Text(7, 0, '3.5'),\n",
       "  Text(8, 0, '4.0'),\n",
       "  Text(9, 0, '4.5'),\n",
       "  Text(10, 0, '5.0')])"
      ]
     },
     "execution_count": 65,
     "metadata": {},
     "output_type": "execute_result"
    },
    {
     "data": {
      "image/png": "[encoded data removed]",
      "text/plain": [
       "<Figure size 640x480 with 1 Axes>"
      ]
     },
     "metadata": {},
     "output_type": "display_data"
    }
   ],
   "source": [
    "stars_distribution.plot.bar(color=\"lightskyblue\")\n",
    "plt.title(\"Histogram częstości gwiazdek w opiniach\")\n",
    "plt.xlabel(\"Liczba gwiazdek\")\n",
    "plt.ylabel(\"Liczba opinii\")\n",
    "plt.xticks(rotation=0)"
   ]
  },
  {
   "cell_type": "markdown",
   "metadata": {},
   "source": [
    "## Udział poszczególnych rekomendacji w ogólnej liczbie opinii"
   ]
  },
  {
   "cell_type": "code",
   "execution_count": 66,
   "metadata": {},
   "outputs": [
    {
     "data": {
      "text/plain": [
       "recommendation\n",
       "Polecam        114\n",
       "None            11\n",
       "Nie polecam      7\n",
       "Name: count, dtype: int64"
      ]
     },
     "execution_count": 66,
     "metadata": {},
     "output_type": "execute_result"
    }
   ],
   "source": [
    "recommendations_distribution = opinions.recommendation.value_counts(dropna=False)\n",
    "recommendations_distribution"
   ]
  },
  {
   "cell_type": "code",
   "execution_count": 67,
   "metadata": {},
   "outputs": [
    {
     "ename": "TypeError",
     "evalue": "Axes.pie() got an unexpected keyword argument 'autopact'",
     "output_type": "error",
     "traceback": [
      "\u001b[1;31m---------------------------------------------------------------------------\u001b[0m",
      "\u001b[1;31mTypeError\u001b[0m                                 Traceback (most recent call last)",
      "Cell \u001b[1;32mIn[67], line 1\u001b[0m\n\u001b[1;32m----> 1\u001b[0m \u001b[43mrecommendations_distribution\u001b[49m\u001b[38;5;241;43m.\u001b[39;49m\u001b[43mplot\u001b[49m\u001b[38;5;241;43m.\u001b[39;49m\u001b[43mpie\u001b[49m\u001b[43m(\u001b[49m\n\u001b[0;32m      2\u001b[0m \u001b[43m    \u001b[49m\u001b[43mcolors\u001b[49m\u001b[43m \u001b[49m\u001b[38;5;241;43m=\u001b[39;49m\u001b[43m \u001b[49m\u001b[43m[\u001b[49m\u001b[38;5;124;43m\"\u001b[39;49m\u001b[38;5;124;43mforestgreen\u001b[39;49m\u001b[38;5;124;43m\"\u001b[39;49m\u001b[43m,\u001b[49m\u001b[43m \u001b[49m\u001b[38;5;124;43m\"\u001b[39;49m\u001b[38;5;124;43mgold\u001b[39;49m\u001b[38;5;124;43m\"\u001b[39;49m\u001b[43m,\u001b[49m\u001b[43m \u001b[49m\u001b[38;5;124;43m\"\u001b[39;49m\u001b[38;5;124;43mcrimson\u001b[39;49m\u001b[38;5;124;43m\"\u001b[39;49m\u001b[43m]\u001b[49m\u001b[43m,\u001b[49m\n\u001b[0;32m      3\u001b[0m \u001b[43m    \u001b[49m\u001b[43mlabel\u001b[49m\u001b[43m \u001b[49m\u001b[38;5;241;43m=\u001b[39;49m\u001b[43m \u001b[49m\u001b[38;5;124;43m\"\u001b[39;49m\u001b[38;5;124;43m\"\u001b[39;49m\u001b[43m,\u001b[49m\n\u001b[0;32m      4\u001b[0m \u001b[43m    \u001b[49m\u001b[43mautopact\u001b[49m\u001b[43m \u001b[49m\u001b[38;5;241;43m=\u001b[39;49m\u001b[43m \u001b[49m\u001b[38;5;124;43m\"\u001b[39;49m\u001b[38;5;132;43;01m%1.1f\u001b[39;49;00m\u001b[38;5;132;43;01m%%\u001b[39;49;00m\u001b[38;5;124;43m\"\u001b[39;49m\u001b[43m,\u001b[49m\n\u001b[0;32m      5\u001b[0m \u001b[43m)\u001b[49m\n",
      "File \u001b[1;32mc:\\Users\\s-121-23\\Desktop\\CeneoScraperME\\.venv\\Lib\\site-packages\\pandas\\plotting\\_core.py:1658\u001b[0m, in \u001b[0;36mPlotAccessor.pie\u001b[1;34m(self, **kwargs)\u001b[0m\n\u001b[0;32m   1652\u001b[0m \u001b[38;5;28;01mif\u001b[39;00m (\n\u001b[0;32m   1653\u001b[0m     \u001b[38;5;28misinstance\u001b[39m(\u001b[38;5;28mself\u001b[39m\u001b[38;5;241m.\u001b[39m_parent, ABCDataFrame)\n\u001b[0;32m   1654\u001b[0m     \u001b[38;5;129;01mand\u001b[39;00m kwargs\u001b[38;5;241m.\u001b[39mget(\u001b[38;5;124m\"\u001b[39m\u001b[38;5;124my\u001b[39m\u001b[38;5;124m\"\u001b[39m, \u001b[38;5;28;01mNone\u001b[39;00m) \u001b[38;5;129;01mis\u001b[39;00m \u001b[38;5;28;01mNone\u001b[39;00m\n\u001b[0;32m   1655\u001b[0m     \u001b[38;5;129;01mand\u001b[39;00m \u001b[38;5;129;01mnot\u001b[39;00m kwargs\u001b[38;5;241m.\u001b[39mget(\u001b[38;5;124m\"\u001b[39m\u001b[38;5;124msubplots\u001b[39m\u001b[38;5;124m\"\u001b[39m, \u001b[38;5;28;01mFalse\u001b[39;00m)\n\u001b[0;32m   1656\u001b[0m ):\n\u001b[0;32m   1657\u001b[0m     \u001b[38;5;28;01mraise\u001b[39;00m \u001b[38;5;167;01mValueError\u001b[39;00m(\u001b[38;5;124m\"\u001b[39m\u001b[38;5;124mpie requires either y column or \u001b[39m\u001b[38;5;124m'\u001b[39m\u001b[38;5;124msubplots=True\u001b[39m\u001b[38;5;124m'\u001b[39m\u001b[38;5;124m\"\u001b[39m)\n\u001b[1;32m-> 1658\u001b[0m \u001b[38;5;28;01mreturn\u001b[39;00m \u001b[38;5;28;43mself\u001b[39;49m\u001b[43m(\u001b[49m\u001b[43mkind\u001b[49m\u001b[38;5;241;43m=\u001b[39;49m\u001b[38;5;124;43m\"\u001b[39;49m\u001b[38;5;124;43mpie\u001b[39;49m\u001b[38;5;124;43m\"\u001b[39;49m\u001b[43m,\u001b[49m\u001b[43m \u001b[49m\u001b[38;5;241;43m*\u001b[39;49m\u001b[38;5;241;43m*\u001b[39;49m\u001b[43mkwargs\u001b[49m\u001b[43m)\u001b[49m\n",
      "File \u001b[1;32mc:\\Users\\s-121-23\\Desktop\\CeneoScraperME\\.venv\\Lib\\site-packages\\pandas\\plotting\\_core.py:1030\u001b[0m, in \u001b[0;36mPlotAccessor.__call__\u001b[1;34m(self, *args, **kwargs)\u001b[0m\n\u001b[0;32m   1027\u001b[0m             label_name \u001b[38;5;241m=\u001b[39m label_kw \u001b[38;5;129;01mor\u001b[39;00m data\u001b[38;5;241m.\u001b[39mcolumns\n\u001b[0;32m   1028\u001b[0m             data\u001b[38;5;241m.\u001b[39mcolumns \u001b[38;5;241m=\u001b[39m label_name\n\u001b[1;32m-> 1030\u001b[0m \u001b[38;5;28;01mreturn\u001b[39;00m \u001b[43mplot_backend\u001b[49m\u001b[38;5;241;43m.\u001b[39;49m\u001b[43mplot\u001b[49m\u001b[43m(\u001b[49m\u001b[43mdata\u001b[49m\u001b[43m,\u001b[49m\u001b[43m \u001b[49m\u001b[43mkind\u001b[49m\u001b[38;5;241;43m=\u001b[39;49m\u001b[43mkind\u001b[49m\u001b[43m,\u001b[49m\u001b[43m \u001b[49m\u001b[38;5;241;43m*\u001b[39;49m\u001b[38;5;241;43m*\u001b[39;49m\u001b[43mkwargs\u001b[49m\u001b[43m)\u001b[49m\n",
      "File \u001b[1;32mc:\\Users\\s-121-23\\Desktop\\CeneoScraperME\\.venv\\Lib\\site-packages\\pandas\\plotting\\_matplotlib\\__init__.py:71\u001b[0m, in \u001b[0;36mplot\u001b[1;34m(data, kind, **kwargs)\u001b[0m\n\u001b[0;32m     69\u001b[0m         kwargs[\u001b[38;5;124m\"\u001b[39m\u001b[38;5;124max\u001b[39m\u001b[38;5;124m\"\u001b[39m] \u001b[38;5;241m=\u001b[39m \u001b[38;5;28mgetattr\u001b[39m(ax, \u001b[38;5;124m\"\u001b[39m\u001b[38;5;124mleft_ax\u001b[39m\u001b[38;5;124m\"\u001b[39m, ax)\n\u001b[0;32m     70\u001b[0m plot_obj \u001b[38;5;241m=\u001b[39m PLOT_CLASSES[kind](data, \u001b[38;5;241m*\u001b[39m\u001b[38;5;241m*\u001b[39mkwargs)\n\u001b[1;32m---> 71\u001b[0m \u001b[43mplot_obj\u001b[49m\u001b[38;5;241;43m.\u001b[39;49m\u001b[43mgenerate\u001b[49m\u001b[43m(\u001b[49m\u001b[43m)\u001b[49m\n\u001b[0;32m     72\u001b[0m plot_obj\u001b[38;5;241m.\u001b[39mdraw()\n\u001b[0;32m     73\u001b[0m \u001b[38;5;28;01mreturn\u001b[39;00m plot_obj\u001b[38;5;241m.\u001b[39mresult\n",
      "File \u001b[1;32mc:\\Users\\s-121-23\\Desktop\\CeneoScraperME\\.venv\\Lib\\site-packages\\pandas\\plotting\\_matplotlib\\core.py:501\u001b[0m, in \u001b[0;36mMPLPlot.generate\u001b[1;34m(self)\u001b[0m\n\u001b[0;32m    499\u001b[0m \u001b[38;5;28mself\u001b[39m\u001b[38;5;241m.\u001b[39m_compute_plot_data()\n\u001b[0;32m    500\u001b[0m fig \u001b[38;5;241m=\u001b[39m \u001b[38;5;28mself\u001b[39m\u001b[38;5;241m.\u001b[39mfig\n\u001b[1;32m--> 501\u001b[0m \u001b[38;5;28;43mself\u001b[39;49m\u001b[38;5;241;43m.\u001b[39;49m\u001b[43m_make_plot\u001b[49m\u001b[43m(\u001b[49m\u001b[43mfig\u001b[49m\u001b[43m)\u001b[49m\n\u001b[0;32m    502\u001b[0m \u001b[38;5;28mself\u001b[39m\u001b[38;5;241m.\u001b[39m_add_table()\n\u001b[0;32m    503\u001b[0m \u001b[38;5;28mself\u001b[39m\u001b[38;5;241m.\u001b[39m_make_legend()\n",
      "File \u001b[1;32mc:\\Users\\s-121-23\\Desktop\\CeneoScraperME\\.venv\\Lib\\site-packages\\pandas\\plotting\\_matplotlib\\core.py:2101\u001b[0m, in \u001b[0;36mPiePlot._make_plot\u001b[1;34m(self, fig)\u001b[0m\n\u001b[0;32m   2099\u001b[0m \u001b[38;5;28;01melse\u001b[39;00m:\n\u001b[0;32m   2100\u001b[0m     blabels \u001b[38;5;241m=\u001b[39m \u001b[38;5;28;01mNone\u001b[39;00m\n\u001b[1;32m-> 2101\u001b[0m results \u001b[38;5;241m=\u001b[39m \u001b[43max\u001b[49m\u001b[38;5;241;43m.\u001b[39;49m\u001b[43mpie\u001b[49m\u001b[43m(\u001b[49m\u001b[43my\u001b[49m\u001b[43m,\u001b[49m\u001b[43m \u001b[49m\u001b[43mlabels\u001b[49m\u001b[38;5;241;43m=\u001b[39;49m\u001b[43mblabels\u001b[49m\u001b[43m,\u001b[49m\u001b[43m \u001b[49m\u001b[38;5;241;43m*\u001b[39;49m\u001b[38;5;241;43m*\u001b[39;49m\u001b[43mkwds\u001b[49m\u001b[43m)\u001b[49m\n\u001b[0;32m   2103\u001b[0m \u001b[38;5;28;01mif\u001b[39;00m kwds\u001b[38;5;241m.\u001b[39mget(\u001b[38;5;124m\"\u001b[39m\u001b[38;5;124mautopct\u001b[39m\u001b[38;5;124m\"\u001b[39m, \u001b[38;5;28;01mNone\u001b[39;00m) \u001b[38;5;129;01mis\u001b[39;00m \u001b[38;5;129;01mnot\u001b[39;00m \u001b[38;5;28;01mNone\u001b[39;00m:\n\u001b[0;32m   2104\u001b[0m     patches, texts, autotexts \u001b[38;5;241m=\u001b[39m results\n",
      "File \u001b[1;32mc:\\Users\\s-121-23\\Desktop\\CeneoScraperME\\.venv\\Lib\\site-packages\\matplotlib\\__init__.py:1478\u001b[0m, in \u001b[0;36m_preprocess_data.<locals>.inner\u001b[1;34m(ax, data, *args, **kwargs)\u001b[0m\n\u001b[0;32m   1475\u001b[0m \u001b[38;5;129m@functools\u001b[39m\u001b[38;5;241m.\u001b[39mwraps(func)\n\u001b[0;32m   1476\u001b[0m \u001b[38;5;28;01mdef\u001b[39;00m \u001b[38;5;21minner\u001b[39m(ax, \u001b[38;5;241m*\u001b[39margs, data\u001b[38;5;241m=\u001b[39m\u001b[38;5;28;01mNone\u001b[39;00m, \u001b[38;5;241m*\u001b[39m\u001b[38;5;241m*\u001b[39mkwargs):\n\u001b[0;32m   1477\u001b[0m     \u001b[38;5;28;01mif\u001b[39;00m data \u001b[38;5;129;01mis\u001b[39;00m \u001b[38;5;28;01mNone\u001b[39;00m:\n\u001b[1;32m-> 1478\u001b[0m         \u001b[38;5;28;01mreturn\u001b[39;00m \u001b[43mfunc\u001b[49m\u001b[43m(\u001b[49m\u001b[43max\u001b[49m\u001b[43m,\u001b[49m\u001b[43m \u001b[49m\u001b[38;5;241;43m*\u001b[39;49m\u001b[38;5;28;43mmap\u001b[39;49m\u001b[43m(\u001b[49m\u001b[43msanitize_sequence\u001b[49m\u001b[43m,\u001b[49m\u001b[43m \u001b[49m\u001b[43margs\u001b[49m\u001b[43m)\u001b[49m\u001b[43m,\u001b[49m\u001b[43m \u001b[49m\u001b[38;5;241;43m*\u001b[39;49m\u001b[38;5;241;43m*\u001b[39;49m\u001b[43mkwargs\u001b[49m\u001b[43m)\u001b[49m\n\u001b[0;32m   1480\u001b[0m     bound \u001b[38;5;241m=\u001b[39m new_sig\u001b[38;5;241m.\u001b[39mbind(ax, \u001b[38;5;241m*\u001b[39margs, \u001b[38;5;241m*\u001b[39m\u001b[38;5;241m*\u001b[39mkwargs)\n\u001b[0;32m   1481\u001b[0m     auto_label \u001b[38;5;241m=\u001b[39m (bound\u001b[38;5;241m.\u001b[39marguments\u001b[38;5;241m.\u001b[39mget(label_namer)\n\u001b[0;32m   1482\u001b[0m                   \u001b[38;5;129;01mor\u001b[39;00m bound\u001b[38;5;241m.\u001b[39mkwargs\u001b[38;5;241m.\u001b[39mget(label_namer))\n",
      "\u001b[1;31mTypeError\u001b[0m: Axes.pie() got an unexpected keyword argument 'autopact'"
     ]
    },
    {
     "data": {
      "image/png": "[encoded data removed]",
      "text/plain": [
       "<Figure size 640x480 with 1 Axes>"
      ]
     },
     "metadata": {},
     "output_type": "display_data"
    }
   ],
   "source": [
    "recommendations_distribution.plot.pie(\n",
    "    colors = [\"forestgreen\", \"gold\", \"crimson\"],\n",
    "    label = \"\",\n",
    "    autopct = \"%1.1f%%\",\n",
    ")\n",
    "plt.title(\"Udział rekomendacji w opiniach\")"
   ]
  }
 ],
 "metadata": {
  "kernelspec": {
   "display_name": ".venv",
   "language": "python",
   "name": "python3"
  },
  "language_info": {
   "codemirror_mode": {
    "name": "ipython",
    "version": 3
   },
   "file_extension": ".py",
   "mimetype": "text/x-python",
   "name": "python",
   "nbconvert_exporter": "python",
   "pygments_lexer": "ipython3",
   "version": "3.11.4"
  }
 },
 "nbformat": 4,
 "nbformat_minor": 2
}
